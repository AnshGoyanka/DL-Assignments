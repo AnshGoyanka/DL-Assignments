{
 "cells": [
  {
   "cell_type": "code",
   "execution_count": 3,
   "id": "b84f3897-ff23-4434-ab45-f8836331b064",
   "metadata": {},
   "outputs": [],
   "source": [
    "import pandas as pd"
   ]
  },
  {
   "cell_type": "code",
   "execution_count": 7,
   "id": "53974662-79f4-4459-8fa6-ea21134f127d",
   "metadata": {},
   "outputs": [],
   "source": [
    "data = pd.read_csv(r\"C:\\Users\\anshg\\Downloads\\Data.csv - Data.csv.csv\")"
   ]
  },
  {
   "cell_type": "code",
   "execution_count": 8,
   "id": "5ebbe386-537a-4aaa-bcf0-9b0f9fc75f36",
   "metadata": {},
   "outputs": [],
   "source": [
    "shape = data.shape"
   ]
  },
  {
   "cell_type": "code",
   "execution_count": 9,
   "id": "ce4b5e32-33bc-4d2e-90ad-d5d12f4c1642",
   "metadata": {},
   "outputs": [
    {
     "name": "stdout",
     "output_type": "stream",
     "text": [
      "Shape of Data: (10, 4)\n"
     ]
    }
   ],
   "source": [
    "print(\"Shape of Data:\", shape)"
   ]
  },
  {
   "cell_type": "code",
   "execution_count": 10,
   "id": "3c4e172e-9e94-43aa-be5f-ca0f79822757",
   "metadata": {},
   "outputs": [],
   "source": [
    "missing_values = data.isnull().sum()"
   ]
  },
  {
   "cell_type": "code",
   "execution_count": 11,
   "id": "ceb3109e-f78d-4667-b660-070b1554bc72",
   "metadata": {},
   "outputs": [
    {
     "name": "stdout",
     "output_type": "stream",
     "text": [
      "\n",
      "Missing Values in each column:\n",
      "Country      0\n",
      "Age          1\n",
      "Salary       1\n",
      "Purchased    0\n",
      "dtype: int64\n"
     ]
    }
   ],
   "source": [
    "print(\"\\nMissing Values in each column:\")\n",
    "print(missing_values)"
   ]
  },
  {
   "cell_type": "code",
   "execution_count": 12,
   "id": "7876e399-5be1-4965-af28-41b53e53ef17",
   "metadata": {},
   "outputs": [],
   "source": [
    "data_types = data.dtypes"
   ]
  },
  {
   "cell_type": "code",
   "execution_count": 13,
   "id": "807de400-b84d-41f3-a60e-372870b6d74f",
   "metadata": {},
   "outputs": [
    {
     "name": "stdout",
     "output_type": "stream",
     "text": [
      "\n",
      "Data Types of each column:\n",
      "Country       object\n",
      "Age          float64\n",
      "Salary       float64\n",
      "Purchased     object\n",
      "dtype: object\n"
     ]
    }
   ],
   "source": [
    "print(\"\\nData Types of each column:\")\n",
    "print(data_types)"
   ]
  },
  {
   "cell_type": "code",
   "execution_count": 14,
   "id": "d9d88db2-325f-4b34-aac2-b95bf86b3ae7",
   "metadata": {},
   "outputs": [
    {
     "name": "stdout",
     "output_type": "stream",
     "text": [
      "\n",
      "Count of Zeros in each column:\n",
      "Country      0\n",
      "Age          0\n",
      "Salary       0\n",
      "Purchased    0\n",
      "dtype: int64\n"
     ]
    }
   ],
   "source": [
    "zero_counts = (data == 0).sum()\n",
    "print(\"\\nCount of Zeros in each column:\")\n",
    "print(zero_counts)"
   ]
  },
  {
   "cell_type": "code",
   "execution_count": 15,
   "id": "12a085a1-5015-47a8-8364-fa3b72630da6",
   "metadata": {},
   "outputs": [
    {
     "name": "stdout",
     "output_type": "stream",
     "text": [
      "\n",
      "Selected Data (Salary column):\n",
      "0    72000.0\n",
      "1    48000.0\n",
      "2    54000.0\n",
      "3    61000.0\n",
      "4        NaN\n",
      "5    58000.0\n",
      "6    52000.0\n",
      "7    79000.0\n",
      "8    83000.0\n",
      "9    67000.0\n",
      "Name: Salary, dtype: float64\n"
     ]
    }
   ],
   "source": [
    "selected_data = data['Salary']\n",
    "print(\"\\nSelected Data (Salary column):\")\n",
    "print(selected_data)"
   ]
  },
  {
   "cell_type": "code",
   "execution_count": 16,
   "id": "ab6f600c-1f1b-4fd9-9f8c-0a09458dd459",
   "metadata": {},
   "outputs": [
    {
     "name": "stdout",
     "output_type": "stream",
     "text": [
      "\n",
      "Data sorted by Salary:\n",
      "   Country   Age   Salary Purchased\n",
      "1    Spain  27.0  48000.0       Yes\n",
      "6    Spain   NaN  52000.0        No\n",
      "2  Germany  30.0  54000.0        No\n",
      "5   France  35.0  58000.0       Yes\n",
      "3    Spain  38.0  61000.0        No\n",
      "9   France  37.0  67000.0       Yes\n",
      "0   France  44.0  72000.0        No\n",
      "7   France  48.0  79000.0       Yes\n",
      "8  Germany  50.0  83000.0        No\n",
      "4  Germany  40.0      NaN       Yes\n"
     ]
    }
   ],
   "source": [
    "sorted_data = data.sort_values(by='Salary')\n",
    "print(\"\\nData sorted by Salary:\")\n",
    "print(sorted_data)"
   ]
  },
  {
   "cell_type": "code",
   "execution_count": 17,
   "id": "b15cdb22-9a80-4a39-9693-59380643ecb9",
   "metadata": {},
   "outputs": [
    {
     "name": "stdout",
     "output_type": "stream",
     "text": [
      "\n",
      "Description of Data:\n",
      "             Age        Salary\n",
      "count   9.000000      9.000000\n",
      "mean   38.777778  63777.777778\n",
      "std     7.693793  12265.579662\n",
      "min    27.000000  48000.000000\n",
      "25%    35.000000  54000.000000\n",
      "50%    38.000000  61000.000000\n",
      "75%    44.000000  72000.000000\n",
      "max    50.000000  83000.000000\n"
     ]
    }
   ],
   "source": [
    "description = data.describe()\n",
    "print(\"\\nDescription of Data:\")\n",
    "print(description)"
   ]
  },
  {
   "cell_type": "code",
   "execution_count": 18,
   "id": "0e244939-b941-45cf-9539-afa169ff7a7c",
   "metadata": {},
   "outputs": [
    {
     "name": "stdout",
     "output_type": "stream",
     "text": [
      "\n",
      "Data Types of each column (rechecked):\n",
      "Country       object\n",
      "Age          float64\n",
      "Salary       float64\n",
      "Purchased     object\n",
      "dtype: object\n"
     ]
    }
   ],
   "source": [
    "print(\"\\nData Types of each column (rechecked):\")\n",
    "print(data.dtypes)"
   ]
  },
  {
   "cell_type": "code",
   "execution_count": 19,
   "id": "967032c3-5b56-4891-b778-9ca787d3f3f2",
   "metadata": {},
   "outputs": [
    {
     "name": "stdout",
     "output_type": "stream",
     "text": [
      "\n",
      "Unique Values in each column:\n",
      "Country      3\n",
      "Age          9\n",
      "Salary       9\n",
      "Purchased    2\n",
      "dtype: int64\n"
     ]
    }
   ],
   "source": [
    "unique_counts = data.nunique()\n",
    "print(\"\\nUnique Values in each column:\")\n",
    "print(unique_counts)"
   ]
  },
  {
   "cell_type": "code",
   "execution_count": 20,
   "id": "7d38c517-bc6a-49f7-b30e-362722ea0311",
   "metadata": {},
   "outputs": [
    {
     "name": "stdout",
     "output_type": "stream",
     "text": [
      "\n",
      "Data Types after converting 'Age' to string:\n",
      "Country       object\n",
      "Age           object\n",
      "Salary       float64\n",
      "Purchased     object\n",
      "dtype: object\n"
     ]
    }
   ],
   "source": [
    "data['Age'] = data['Age'].astype(str)\n",
    "print(\"\\nData Types after converting 'Age' to string:\")\n",
    "print(data.dtypes)"
   ]
  },
  {
   "cell_type": "code",
   "execution_count": null,
   "id": "a28114ab-c181-455a-8f5a-136bd66a98fc",
   "metadata": {},
   "outputs": [],
   "source": []
  }
 ],
 "metadata": {
  "kernelspec": {
   "display_name": "Python 3 (ipykernel)",
   "language": "python",
   "name": "python3"
  },
  "language_info": {
   "codemirror_mode": {
    "name": "ipython",
    "version": 3
   },
   "file_extension": ".py",
   "mimetype": "text/x-python",
   "name": "python",
   "nbconvert_exporter": "python",
   "pygments_lexer": "ipython3",
   "version": "3.12.1"
  }
 },
 "nbformat": 4,
 "nbformat_minor": 5
}
